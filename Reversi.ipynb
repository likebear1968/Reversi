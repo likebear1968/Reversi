{
 "cells": [
  {
   "cell_type": "code",
   "execution_count": null,
   "metadata": {},
   "outputs": [],
   "source": [
    "from board import Board\n",
    "from quantity import Quantity\n",
    "from player import Player"
   ]
  },
  {
   "cell_type": "code",
   "execution_count": null,
   "metadata": {},
   "outputs": [],
   "source": [
    "def learning(board, quantity, player1, player2, stories=2000):\n",
    "    for story in range(stories):\n",
    "        board.reset()\n",
    "        quantity.reset()\n",
    "        while True:\n",
    "            p1_ret = player1.put(board, quantity, train=True)\n",
    "            p2_ret = player2.put(board, quantity, train=True)\n",
    "            if p1_ret == 0 and p2_ret == 0:\n",
    "                break"
   ]
  },
  {
   "cell_type": "code",
   "execution_count": null,
   "metadata": {
    "scrolled": true
   },
   "outputs": [],
   "source": [
    "# 学習\n",
    "b = Board(6)\n",
    "q = Quantity(6)\n",
    "p1 = Player(Board.BLACK)\n",
    "p2 = Player(Board.WHITE)\n",
    "learning(b, q, p1, p2)"
   ]
  },
  {
   "cell_type": "code",
   "execution_count": null,
   "metadata": {},
   "outputs": [],
   "source": [
    "# 個別対戦用にリセット\n",
    "b.reset()\n",
    "q.reset()\n",
    "print(b.board)"
   ]
  },
  {
   "cell_type": "code",
   "execution_count": null,
   "metadata": {},
   "outputs": [],
   "source": []
  }
 ],
 "metadata": {
  "kernelspec": {
   "display_name": "Python 3",
   "language": "python",
   "name": "python3"
  },
  "language_info": {
   "codemirror_mode": {
    "name": "ipython",
    "version": 3
   },
   "file_extension": ".py",
   "mimetype": "text/x-python",
   "name": "python",
   "nbconvert_exporter": "python",
   "pygments_lexer": "ipython3",
   "version": "3.7.3"
  }
 },
 "nbformat": 4,
 "nbformat_minor": 2
}
